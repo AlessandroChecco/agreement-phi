{
 "cells": [
  {
   "cell_type": "code",
   "execution_count": 2,
   "metadata": {
    "collapsed": false
   },
   "outputs": [],
   "source": [
    "from agreement_phi import run_phi\n",
    "import numpy as np"
   ]
  },
  {
   "cell_type": "code",
   "execution_count": 3,
   "metadata": {
    "collapsed": false
   },
   "outputs": [
    {
     "name": "stdout",
     "output_type": "stream",
     "text": [
      "[[4, 3, 3, 4, 0, 0, 0, 1, 4, 1], [0, 1, 1, 3, 3, 2, 0, 4, 0, 4], [4, 1, 3, 4, 0, 2, 0, 1, 4, 1], [2, 0, 2, 4, 2, 1, 2, 0, 3, 4], [3, 4, 2, 4, 4, 4, 2, 1, 1, 2]]\n"
     ]
    }
   ],
   "source": [
    "m_random = np.random.randint(5, size=(5, 10)).tolist()\n",
    "print(m_random)\n",
    "r = run_phi(m_random, limits=[0,5],keep_missing=True,fast=True,njobs=4,verbose=False,table=False,N=150)"
   ]
  },
  {
   "cell_type": "code",
   "execution_count": 4,
   "metadata": {
    "collapsed": false
   },
   "outputs": [
    {
     "data": {
      "text/plain": [
       "{'agreement': 0.25316142945890674,\n",
       " 'computation_time': 2.004441976547241,\n",
       " 'convergence_test': True,\n",
       " 'interval': array([-0.07708204,  0.44956308])}"
      ]
     },
     "execution_count": 4,
     "metadata": {},
     "output_type": "execute_result"
    }
   ],
   "source": [
    "r"
   ]
  }
 ],
 "metadata": {
  "kernelspec": {
   "display_name": "Python 3",
   "language": "python",
   "name": "python3"
  },
  "language_info": {
   "codemirror_mode": {
    "name": "ipython",
    "version": 3
   },
   "file_extension": ".py",
   "mimetype": "text/x-python",
   "name": "python",
   "nbconvert_exporter": "python",
   "pygments_lexer": "ipython3",
   "version": "3.5.1"
  },
  "toc": {
   "colors": {
    "hover_highlight": "#DAA520",
    "running_highlight": "#FF0000",
    "selected_highlight": "#FFD700"
   },
   "moveMenuLeft": true,
   "nav_menu": {
    "height": "12px",
    "width": "252px"
   },
   "navigate_menu": true,
   "number_sections": true,
   "sideBar": true,
   "threshold": 4,
   "toc_cell": false,
   "toc_section_display": "block",
   "toc_window_display": false
  }
 },
 "nbformat": 4,
 "nbformat_minor": 0
}
